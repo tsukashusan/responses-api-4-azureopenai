{
 "cells": [
  {
   "cell_type": "code",
   "execution_count": null,
   "metadata": {},
   "outputs": [],
   "source": [
    "from azure.identity import DefaultAzureCredential, get_bearer_token_provider\n",
    "from openai import AzureOpenAI\n",
    "import os\n",
    "from dotenv import load_dotenv\n",
    "\n",
    "\n",
    "# Load environment variables from .env file\n",
    "load_dotenv()\n"
   ]
  },
  {
   "cell_type": "code",
   "execution_count": null,
   "metadata": {},
   "outputs": [],
   "source": [
    "\n",
    "token_provider = get_bearer_token_provider(\n",
    "    DefaultAzureCredential(), \"https://cognitiveservices.azure.com/.default\"\n",
    ")\n",
    "\n",
    "api_version = os.environ[\"AZURE_OPENAI_API_VERSION\"]\n",
    "endpoint = os.environ[\"AZURE_OPENAI_ENDPOINT\"]\n",
    "\n",
    "client = AzureOpenAI(\n",
    "    api_version=api_version,\n",
    "    azure_ad_token_provider=token_provider,\n",
    ")\n",
    "response = client.responses.create(\n",
    "    model=os.environ[\"AZURE_OPENAI_MODEL_NAME\"],\n",
    "    input=\"未来のテクノロジートレンドを3つ挙げてください\"\n",
    ")\n",
    "print(response.output_text)"
   ]
  },
  {
   "cell_type": "markdown",
   "metadata": {},
   "source": [
    "## Chaining responses together"
   ]
  },
  {
   "cell_type": "code",
   "execution_count": null,
   "metadata": {},
   "outputs": [],
   "source": [
    "inputs = [{\"type\": \"message\", \"role\": \"user\", \"content\": \"Define and explain the concept of catastrophic forgetting?\"}] \n",
    "  \n",
    "response = client.responses.create(  \n",
    "    model=os.environ[\"AZURE_OPENAI_MODEL_NAME\"], # replace with your model deployment name  \n",
    "    input=inputs  \n",
    ")  \n",
    "  \n",
    "inputs += response.output\n",
    "\n",
    "inputs.append({\"role\": \"user\", \"type\": \"message\", \"content\": \"Explain this at a level that could be understood by a college freshman\"}) \n",
    "               \n",
    "\n",
    "second_response = client.responses.create(  \n",
    "    model=os.environ[\"AZURE_OPENAI_MODEL_NAME\"],  \n",
    "    input=inputs\n",
    ")  \n",
    "      \n",
    "print(second_response.model_dump_json(indent=2)) "
   ]
  },
  {
   "cell_type": "markdown",
   "metadata": {},
   "source": []
  },
  {
   "cell_type": "markdown",
   "metadata": {},
   "source": [
    "## Chaining responses manually"
   ]
  },
  {
   "cell_type": "code",
   "execution_count": null,
   "metadata": {},
   "outputs": [],
   "source": [
    "inputs = [{\"type\": \"message\", \"role\": \"user\", \"content\": \"Define and explain the concept of catastrophic forgetting?\"}] \n",
    "  \n",
    "response = client.responses.create(  \n",
    "    model=os.environ[\"AZURE_OPENAI_MODEL_NAME\"],  # replace with your model deployment name  \n",
    "    input=inputs  \n",
    ")  \n",
    "  \n",
    "inputs += response.output\n",
    "\n",
    "inputs.append({\"role\": \"user\", \"type\": \"message\", \"content\": \"Explain this at a level that could be understood by a college freshman\"}) \n",
    "               \n",
    "\n",
    "second_response = client.responses.create(  \n",
    "    model=os.environ[\"AZURE_OPENAI_MODEL_NAME\"],  \n",
    "    input=inputs\n",
    ")  \n",
    "      \n",
    "print(second_response.model_dump_json(indent=2))  "
   ]
  },
  {
   "cell_type": "markdown",
   "metadata": {},
   "source": [
    "## Function calling"
   ]
  },
  {
   "cell_type": "code",
   "execution_count": null,
   "metadata": {},
   "outputs": [],
   "source": [
    "response = client.responses.create(  \n",
    "    model=os.environ[\"AZURE_OPENAI_MODEL_NAME\"],  # replace with your model deployment name  \n",
    "    tools=[  \n",
    "        {  \n",
    "            \"type\": \"function\",  \n",
    "            \"name\": \"get_weather\",  \n",
    "            \"description\": \"Get the weather for a location\",  \n",
    "            \"parameters\": {  \n",
    "                \"type\": \"object\",  \n",
    "                \"properties\": {  \n",
    "                    \"location\": {\"type\": \"string\"},  \n",
    "                },  \n",
    "                \"required\": [\"location\"],  \n",
    "            },  \n",
    "        }  \n",
    "    ],  \n",
    "    input=[{\"role\": \"user\", \"content\": \"What's the weather in San Francisco?\"}],  \n",
    ")  \n",
    "\n",
    "print(response.model_dump_json(indent=2))  \n",
    "  \n",
    "# To provide output to tools, add a response for each tool call to an array passed  \n",
    "# to the next response as `input`  \n",
    "input = []  \n",
    "for output in response.output:  \n",
    "    if output.type == \"function_call\":  \n",
    "        match output.name:  \n",
    "            case \"get_weather\":  \n",
    "                input.append(  \n",
    "                    {  \n",
    "                        \"type\": \"function_call_output\",  \n",
    "                        \"call_id\": output.call_id,  \n",
    "                        \"output\": '{\"temperature\": \"70 degrees\"}',  \n",
    "                    }  \n",
    "                )  \n",
    "            case _:  \n",
    "                raise ValueError(f\"Unknown function call: {output.name}\")  \n",
    "  \n",
    "second_response = client.responses.create(  \n",
    "    model=os.environ[\"AZURE_OPENAI_MODEL_NAME\"],  \n",
    "    previous_response_id=response.id,  \n",
    "    input=input  \n",
    ")  \n",
    "\n",
    "print(second_response.model_dump_json(indent=2)) "
   ]
  },
  {
   "cell_type": "markdown",
   "metadata": {},
   "source": [
    "## List input items"
   ]
  },
  {
   "cell_type": "code",
   "execution_count": null,
   "metadata": {},
   "outputs": [
    {
     "ename": "NameError",
     "evalue": "name 'client' is not defined",
     "output_type": "error",
     "traceback": [
      "\u001b[31m---------------------------------------------------------------------------\u001b[39m",
      "\u001b[31mNameError\u001b[39m                                 Traceback (most recent call last)",
      "\u001b[36mCell\u001b[39m\u001b[36m \u001b[39m\u001b[32mIn[1]\u001b[39m\u001b[32m, line 1\u001b[39m\n\u001b[32m----> \u001b[39m\u001b[32m1\u001b[39m response = \u001b[43mclient\u001b[49m.responses.input_items.list(\u001b[33m\"\u001b[39m\u001b[33mresp_67d856fcfba0819081fd3cffee2aa1c0\u001b[39m\u001b[33m\"\u001b[39m)\n\u001b[32m      3\u001b[39m \u001b[38;5;28mprint\u001b[39m(response.model_dump_json(indent=\u001b[32m2\u001b[39m))\n",
      "\u001b[31mNameError\u001b[39m: name 'client' is not defined"
     ]
    }
   ],
   "source": [
    "list_parameter=\"resp_67d856fcfba0819081fd3cffee2aa1c0\"\n",
    "response = client.responses.input_items.list(list_parameter)\n",
    "\n",
    "print(response.model_dump_json(indent=2))"
   ]
  },
  {
   "cell_type": "code",
   "execution_count": null,
   "metadata": {},
   "outputs": [],
   "source": []
  }
 ],
 "metadata": {
  "kernelspec": {
   "display_name": "venv",
   "language": "python",
   "name": "python3"
  },
  "language_info": {
   "codemirror_mode": {
    "name": "ipython",
    "version": 3
   },
   "file_extension": ".py",
   "mimetype": "text/x-python",
   "name": "python",
   "nbconvert_exporter": "python",
   "pygments_lexer": "ipython3",
   "version": "3.13.2"
  }
 },
 "nbformat": 4,
 "nbformat_minor": 2
}
