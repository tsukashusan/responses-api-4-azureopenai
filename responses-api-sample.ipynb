{
 "cells": [
  {
   "cell_type": "code",
   "execution_count": 1,
   "metadata": {},
   "outputs": [
    {
     "data": {
      "text/plain": [
       "True"
      ]
     },
     "execution_count": 1,
     "metadata": {},
     "output_type": "execute_result"
    }
   ],
   "source": [
    "from azure.identity import DefaultAzureCredential, get_bearer_token_provider\n",
    "from openai import AzureOpenAI\n",
    "import os\n",
    "from dotenv import load_dotenv\n",
    "\n",
    "\n",
    "# Load environment variables from .env file\n",
    "load_dotenv()\n"
   ]
  },
  {
   "cell_type": "code",
   "execution_count": 4,
   "metadata": {},
   "outputs": [
    {
     "name": "stdout",
     "output_type": "stream",
     "text": [
      "未来のテクノロジートレンドとして、以下の3つが注目されています：\n",
      "\n",
      "1. **人工知能と機械学習（AI/ML）**：\n",
      "   - **自動運転車**：交通システムの効率化や安全性の向上を目指して、自動運転技術は急速に進化しています。\n",
      "   - **医療分野での応用**：診断支援や治療計画の立案、さらには新薬の開発においてAIの活用が進むでしょう。\n",
      "   - **自然言語処理**：AIを用いた翻訳、コンテンツ生成、カスタマーサポートなどの分野で大きな進展が見込まれます。\n",
      "\n",
      "2. **ブロックチェーンと分散型技術**：\n",
      "   - **金融サービス（Decentralized Finance, DeFi）**：従来の金融システムに変わる、新たな金融インフラとして期待されています。\n",
      "   - **サプライチェーン管理**：透明性と追跡可能性の向上に寄与し、偽造品の防止や効率的な物流管理を可能にします。\n",
      "   - **デジタルアイデンティティ**：個人情報を安全に管理し、インターネット上でのアイデンティティ確認を簡単に行う手段として普及が進むでしょう。\n",
      "\n",
      "3. **量子コンピューティング**：\n",
      "   - **高性能計算**：複雑な問題を従来のコンピュータでは不可能な速度で解決するため、物理学、化学、バイオインフォマティクスなどの分野で革新的な成果が見込まれます。\n",
      "   - **暗号技術**：現在の暗号化技術を破る能力を持つため、新たなセキュリティプロトコルの開発が加速するでしょう。\n",
      "   - **機械学習の高速化**：より高次元のデータを処理することで、AI/MLアルゴリズムの効率と精度が大幅に向上する可能性があります。\n",
      "\n",
      "これらの技術は、私たちの生活やビジネスの在り方を根本的に変えていく潜在力を持っています。\n"
     ]
    }
   ],
   "source": [
    "\n",
    "token_provider = get_bearer_token_provider(\n",
    "    DefaultAzureCredential(), \"https://cognitiveservices.azure.com/.default\"\n",
    ")\n",
    "\n",
    "api_version = os.environ[\"AZURE_OPENAI_API_VERSION\"]\n",
    "endpoint = os.environ[\"AZURE_OPENAI_ENDPOINT\"]\n",
    "\n",
    "client = AzureOpenAI(\n",
    "    api_version=api_version,\n",
    "    azure_ad_token_provider=token_provider,\n",
    ")\n",
    "response = client.responses.create(\n",
    "    model=os.environ[\"AZURE_OPENAI_MODEL_NAME\"],\n",
    "    input=\"未来のテクノロジートレンドを3つ挙げてください\"\n",
    ")\n",
    "print(response.output_text)"
   ]
  },
  {
   "cell_type": "code",
   "execution_count": null,
   "metadata": {},
   "outputs": [],
   "source": [
    "inputs = [{\"type\": \"message\", \"role\": \"user\", \"content\": \"Define and explain the concept of catastrophic forgetting?\"}] \n",
    "  \n",
    "response = client.responses.create(  \n",
    "    model=os.environ[\"AZURE_OPENAI_MODEL_NAME\"], # replace with your model deployment name  \n",
    "    input=inputs  \n",
    ")  \n",
    "  \n",
    "inputs += response.output\n",
    "\n",
    "inputs.append({\"role\": \"user\", \"type\": \"message\", \"content\": \"Explain this at a level that could be understood by a college freshman\"}) \n",
    "               \n",
    "\n",
    "second_response = client.responses.create(  \n",
    "    model=\"gpt-4o\",  \n",
    "    input=inputs\n",
    ")  \n",
    "      \n",
    "print(second_response.model_dump_json(indent=2)) "
   ]
  },
  {
   "cell_type": "code",
   "execution_count": null,
   "metadata": {},
   "outputs": [],
   "source": [
    "from openai import OpenAI\n",
    "client = OpenAI(base_url=os.environ[\"AZURE_OPENAI_ENDPOINT\"])\n",
    "\n",
    "response = client.responses.create(\n",
    "    model=\"gpt-4o\",\n",
    "    input=[\n",
    "        {\"role\": \"user\", \"content\": \"what teams are playing in this image?\"},\n",
    "        {\n",
    "            \"role\": \"user\",\n",
    "            \"content\": [\n",
    "                {\n",
    "                    \"type\": \"input_image\",\n",
    "                    \"image_url\": \"https://upload.wikimedia.org/wikipedia/commons/3/3b/LeBron_James_Layup_%28Cleveland_vs_Brooklyn_2018%29.jpg\"\n",
    "                }\n",
    "            ]\n",
    "        }\n",
    "    ]\n",
    ")\n",
    "\n",
    "print(response.output_text)"
   ]
  },
  {
   "cell_type": "markdown",
   "metadata": {},
   "source": []
  }
 ],
 "metadata": {
  "kernelspec": {
   "display_name": "venv",
   "language": "python",
   "name": "python3"
  },
  "language_info": {
   "codemirror_mode": {
    "name": "ipython",
    "version": 3
   },
   "file_extension": ".py",
   "mimetype": "text/x-python",
   "name": "python",
   "nbconvert_exporter": "python",
   "pygments_lexer": "ipython3",
   "version": "3.13.2"
  }
 },
 "nbformat": 4,
 "nbformat_minor": 2
}
